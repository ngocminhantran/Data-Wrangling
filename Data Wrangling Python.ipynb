{
 "cells": [
  {
   "cell_type": "code",
   "execution_count": 27,
   "id": "f6049ea2",
   "metadata": {},
   "outputs": [],
   "source": [
    "# Importing libraries\n",
    "import pandas as pd\n",
    "import numpy as np"
   ]
  },
  {
   "cell_type": "code",
   "execution_count": 28,
   "id": "ee0f9143",
   "metadata": {},
   "outputs": [],
   "source": [
    "# Loading datasets\n",
    "prices = pd.read_csv('/Users/macpro/Downloads/Data Wrangling Practise/prices.csv')\n",
    "sales = pd.read_csv('/Users/macpro/Downloads/Data Wrangling Practise/sales.csv')"
   ]
  },
  {
   "cell_type": "code",
   "execution_count": 29,
   "id": "45aa306a",
   "metadata": {},
   "outputs": [
    {
     "data": {
      "text/html": [
       "<div>\n",
       "<style scoped>\n",
       "    .dataframe tbody tr th:only-of-type {\n",
       "        vertical-align: middle;\n",
       "    }\n",
       "\n",
       "    .dataframe tbody tr th {\n",
       "        vertical-align: top;\n",
       "    }\n",
       "\n",
       "    .dataframe thead th {\n",
       "        text-align: right;\n",
       "    }\n",
       "</style>\n",
       "<table border=\"1\" class=\"dataframe\">\n",
       "  <thead>\n",
       "    <tr style=\"text-align: right;\">\n",
       "      <th></th>\n",
       "      <th>product_id</th>\n",
       "      <th>old_price</th>\n",
       "      <th>new_price</th>\n",
       "      <th>updated_at</th>\n",
       "    </tr>\n",
       "  </thead>\n",
       "  <tbody>\n",
       "    <tr>\n",
       "      <th>0</th>\n",
       "      <td>64</td>\n",
       "      <td>270000</td>\n",
       "      <td>239000</td>\n",
       "      <td>9/10/18 16:37</td>\n",
       "    </tr>\n",
       "    <tr>\n",
       "      <th>1</th>\n",
       "      <td>3954203</td>\n",
       "      <td>60000</td>\n",
       "      <td>64000</td>\n",
       "      <td>9/11/18 11:54</td>\n",
       "    </tr>\n",
       "    <tr>\n",
       "      <th>2</th>\n",
       "      <td>3954203</td>\n",
       "      <td>60500</td>\n",
       "      <td>57500</td>\n",
       "      <td>9/17/18 22:59</td>\n",
       "    </tr>\n",
       "    <tr>\n",
       "      <th>3</th>\n",
       "      <td>3954203</td>\n",
       "      <td>64000</td>\n",
       "      <td>60500</td>\n",
       "      <td>9/15/18 3:49</td>\n",
       "    </tr>\n",
       "    <tr>\n",
       "      <th>4</th>\n",
       "      <td>3954203</td>\n",
       "      <td>68800</td>\n",
       "      <td>60000</td>\n",
       "      <td>9/10/18 16:32</td>\n",
       "    </tr>\n",
       "  </tbody>\n",
       "</table>\n",
       "</div>"
      ],
      "text/plain": [
       "   product_id  old_price  new_price     updated_at\n",
       "0          64     270000     239000  9/10/18 16:37\n",
       "1     3954203      60000      64000  9/11/18 11:54\n",
       "2     3954203      60500      57500  9/17/18 22:59\n",
       "3     3954203      64000      60500   9/15/18 3:49\n",
       "4     3954203      68800      60000  9/10/18 16:32"
      ]
     },
     "execution_count": 29,
     "metadata": {},
     "output_type": "execute_result"
    }
   ],
   "source": [
    "# Reading the first 5 rows of the dataset\n",
    "prices.head()"
   ]
  },
  {
   "cell_type": "code",
   "execution_count": 30,
   "id": "d553169c",
   "metadata": {},
   "outputs": [
    {
     "data": {
      "text/html": [
       "<div>\n",
       "<style scoped>\n",
       "    .dataframe tbody tr th:only-of-type {\n",
       "        vertical-align: middle;\n",
       "    }\n",
       "\n",
       "    .dataframe tbody tr th {\n",
       "        vertical-align: top;\n",
       "    }\n",
       "\n",
       "    .dataframe thead th {\n",
       "        text-align: right;\n",
       "    }\n",
       "</style>\n",
       "<table border=\"1\" class=\"dataframe\">\n",
       "  <thead>\n",
       "    <tr style=\"text-align: right;\">\n",
       "      <th></th>\n",
       "      <th>product_id</th>\n",
       "      <th>ordered_at</th>\n",
       "      <th>quantity_ordered</th>\n",
       "    </tr>\n",
       "  </thead>\n",
       "  <tbody>\n",
       "    <tr>\n",
       "      <th>0</th>\n",
       "      <td>3998909</td>\n",
       "      <td>9/18/18 17:51</td>\n",
       "      <td>1</td>\n",
       "    </tr>\n",
       "    <tr>\n",
       "      <th>1</th>\n",
       "      <td>3998909</td>\n",
       "      <td>9/18/18 12:52</td>\n",
       "      <td>1</td>\n",
       "    </tr>\n",
       "    <tr>\n",
       "      <th>2</th>\n",
       "      <td>3998909</td>\n",
       "      <td>9/18/18 11:33</td>\n",
       "      <td>1</td>\n",
       "    </tr>\n",
       "    <tr>\n",
       "      <th>3</th>\n",
       "      <td>3998909</td>\n",
       "      <td>9/18/18 18:47</td>\n",
       "      <td>1</td>\n",
       "    </tr>\n",
       "    <tr>\n",
       "      <th>4</th>\n",
       "      <td>3998909</td>\n",
       "      <td>9/18/18 17:36</td>\n",
       "      <td>1</td>\n",
       "    </tr>\n",
       "  </tbody>\n",
       "</table>\n",
       "</div>"
      ],
      "text/plain": [
       "   product_id     ordered_at  quantity_ordered\n",
       "0     3998909  9/18/18 17:51                 1\n",
       "1     3998909  9/18/18 12:52                 1\n",
       "2     3998909  9/18/18 11:33                 1\n",
       "3     3998909  9/18/18 18:47                 1\n",
       "4     3998909  9/18/18 17:36                 1"
      ]
     },
     "execution_count": 30,
     "metadata": {},
     "output_type": "execute_result"
    }
   ],
   "source": [
    "# Reading the first 5 rows of the dataset\n",
    "sales.head()"
   ]
  },
  {
   "cell_type": "code",
   "execution_count": 31,
   "id": "640c30c8",
   "metadata": {},
   "outputs": [],
   "source": [
    "# Merging 2 datasets\n",
    "merged = sales.merge(prices,on='product_id',how='inner')"
   ]
  },
  {
   "cell_type": "code",
   "execution_count": 32,
   "id": "df2cd309",
   "metadata": {},
   "outputs": [],
   "source": [
    "# Converting the 'ordered_at' and 'updated_at' columns to datetime format\n",
    "merged['ordered_at'] = pd.to_datetime(merged['ordered_at'])\n",
    "merged['updated_at'] = pd.to_datetime(merged['updated_at'])"
   ]
  },
  {
   "cell_type": "code",
   "execution_count": 33,
   "id": "a202673d",
   "metadata": {},
   "outputs": [],
   "source": [
    "# Calculating the time difference between 'ordered_at' and 'updated_at' and storing it in the 'ordered_vs_updated' column:\n",
    "merged['ordered_vs_updated'] = merged['ordered_at'] - merged['updated_at']"
   ]
  },
  {
   "cell_type": "code",
   "execution_count": 34,
   "id": "941a26d9",
   "metadata": {},
   "outputs": [],
   "source": [
    "# alculating the absolute value of the 'ordered_vs_updated' column and storing it in the 'ordered_vs_updated_abs' column\n",
    "merged['ordered_vs_updated_abs'] = merged['ordered_vs_updated'].abs()"
   ]
  },
  {
   "cell_type": "code",
   "execution_count": 35,
   "id": "59f3d78b",
   "metadata": {},
   "outputs": [],
   "source": [
    "# Filtering the merged DataFrame to keep only rows where 'ordered_vs_updated_abs' is equal to the minimum value for each unique combination of 'product_id' and 'ordered_at'\n",
    "merged=merged[merged['ordered_vs_updated_abs'] == merged.groupby(['product_id', 'ordered_at'])['ordered_vs_updated_abs'].transform('min')]"
   ]
  },
  {
   "cell_type": "code",
   "execution_count": 36,
   "id": "e51e6b4a",
   "metadata": {},
   "outputs": [],
   "source": [
    "# Determining the 'purchase_price' based on the condition that if 'ordered_vs_updated' is greater than or equal to zero, use the 'new_price' column; otherwise, use the 'old_price' column\n",
    "merged['purchase_price'] = np.where(merged['ordered_vs_updated'] >= pd.to_timedelta('0S'), merged['new_price'], merged['old_price'])"
   ]
  },
  {
   "cell_type": "code",
   "execution_count": 37,
   "id": "4aad7a75",
   "metadata": {},
   "outputs": [],
   "source": [
    "# Grouping the data by 'product_id' and 'purchase_price' and calculating the sum of 'quantity_ordered' for each group\n",
    "final_result = merged.groupby(['product_id', 'purchase_price'], as_index=False)['quantity_ordered'].sum()"
   ]
  },
  {
   "cell_type": "code",
   "execution_count": 38,
   "id": "3b96750b",
   "metadata": {},
   "outputs": [],
   "source": [
    "# Calculating the total revenue for each group by multiplying 'purchase_price' with 'quantity_ordered'\n",
    "final_result['total_revenue'] = final_result['purchase_price'] * final_result['quantity_ordered']"
   ]
  },
  {
   "cell_type": "code",
   "execution_count": 39,
   "id": "c62cef10",
   "metadata": {},
   "outputs": [],
   "source": [
    "# Appending a row to the DataFrame with the sum of all the numeric columns, which represents the total revenue\n",
    "final_result.loc['Total'] = final_result.sum(numeric_only=True, axis=0)"
   ]
  },
  {
   "cell_type": "code",
   "execution_count": 40,
   "id": "d7031d94",
   "metadata": {},
   "outputs": [],
   "source": [
    "# Setting the 'product_id' and 'purchase_price' values of the last row to an empty string (for aesthetic purposes)\n",
    "final_result.loc[final_result.index[-1], ['product_id', 'purchase_price']] = ''"
   ]
  },
  {
   "cell_type": "code",
   "execution_count": 41,
   "id": "52133fe7",
   "metadata": {},
   "outputs": [
    {
     "name": "stdout",
     "output_type": "stream",
     "text": [
      "      product_id purchase_price  quantity_ordered  total_revenue\n",
      "0             64         239000                 4         956000\n",
      "1        3954203          57500                 1          57500\n",
      "2        3954203          60000                 3         180000\n",
      "3        3954203          64000                10         640000\n",
      "4        3998909          15500                 1          15500\n",
      "5        3998909          16500                14         231000\n",
      "6        3998909          17000                 2          34000\n",
      "7        4085861          52000                20        1040000\n",
      "8        4085861          53500                40        2140000\n",
      "9        4085861          58000                38        2204000\n",
      "10       4085861          60000                 3         180000\n",
      "11       4085861          62500                29        1812500\n",
      "12       4085861          67000                13         871000\n",
      "Total                                         178       10361500\n"
     ]
    }
   ],
   "source": [
    "# Printing the final result DataFrame\n",
    "print(final_result)"
   ]
  }
 ],
 "metadata": {
  "kernelspec": {
   "display_name": "Python 3 (ipykernel)",
   "language": "python",
   "name": "python3"
  },
  "language_info": {
   "codemirror_mode": {
    "name": "ipython",
    "version": 3
   },
   "file_extension": ".py",
   "mimetype": "text/x-python",
   "name": "python",
   "nbconvert_exporter": "python",
   "pygments_lexer": "ipython3",
   "version": "3.11.2"
  }
 },
 "nbformat": 4,
 "nbformat_minor": 5
}
